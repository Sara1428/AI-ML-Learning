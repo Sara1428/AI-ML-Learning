{
  "nbformat": 4,
  "nbformat_minor": 0,
  "metadata": {
    "colab": {
      "provenance": [],
      "authorship_tag": "ABX9TyN9hWqSG1AHk/bQZE09frd5",
      "include_colab_link": true
    },
    "kernelspec": {
      "name": "python3",
      "display_name": "Python 3"
    },
    "language_info": {
      "name": "python"
    }
  },
  "cells": [
    {
      "cell_type": "markdown",
      "metadata": {
        "id": "view-in-github",
        "colab_type": "text"
      },
      "source": [
        "<a href=\"https://colab.research.google.com/github/Sara1428/AI-ML-Learning/blob/main/feature_crossing.ipynb\" target=\"_parent\"><img src=\"https://colab.research.google.com/assets/colab-badge.svg\" alt=\"Open In Colab\"/></a>"
      ]
    },
    {
      "cell_type": "markdown",
      "source": [
        "In many machine learning problems, the relationship between the input features and the target variable is not just linear. By combining features, we can uncover complex relationships that a model might miss if it only considers each feature independently.\n",
        "\n",
        "A feature cross is the combination of two or more features to create a new feature. This new feature can capture the interactions between the original features, providing more insightful information to your model.\n",
        "\n",
        "Better explanation - https://krishna-yogik.medium.com/feature-cross-a-deep-dive-with-practical-examples-4e87a373f117"
      ],
      "metadata": {
        "id": "zsvj-3e7cJrX"
      }
    },
    {
      "cell_type": "markdown",
      "source": [
        "**1. Polynomial Feature Crosses** \\\\\n",
        "\n",
        "Polynomial feature crosses involve creating new features by raising existing features to a power or combining them using polynomial terms. For instance, if you have a feature x, a polynomial cross might be x² or x³. These are useful in regression models where the relationship between features and the target variable is nonlinear."
      ],
      "metadata": {
        "id": "XE19Je0McZXY"
      }
    },
    {
      "cell_type": "code",
      "source": [
        "import numpy as np\n",
        "import pandas as pd\n",
        "from sklearn.preprocessing import PolynomialFeatures\n",
        "\n",
        "# Sample data\n",
        "data = pd.DataFrame({'x': [1, 2, 3, 4, 5], 'y': [6, 7, 8, 9, 10]})\n",
        "\n",
        "# Creating polynomial features\n",
        "poly = PolynomialFeatures(degree=2)\n",
        "poly_features = poly.fit_transform(data)\n",
        "\n",
        "# Converting to dataframe\n",
        "poly_df = pd.DataFrame(poly_features, columns=['1', 'x', 'y', 'x^2', 'xy', 'y^2'])\n",
        "\n",
        "print(poly_df)"
      ],
      "metadata": {
        "colab": {
          "base_uri": "https://localhost:8080/"
        },
        "id": "7vxaNhllcn1w",
        "outputId": "af513d59-ca64-4dc6-c97b-909283ac3334"
      },
      "execution_count": null,
      "outputs": [
        {
          "output_type": "stream",
          "name": "stdout",
          "text": [
            "     1    x     y   x^2    xy    y^2\n",
            "0  1.0  1.0   6.0   1.0   6.0   36.0\n",
            "1  1.0  2.0   7.0   4.0  14.0   49.0\n",
            "2  1.0  3.0   8.0   9.0  24.0   64.0\n",
            "3  1.0  4.0   9.0  16.0  36.0   81.0\n",
            "4  1.0  5.0  10.0  25.0  50.0  100.0\n"
          ]
        }
      ]
    },
    {
      "cell_type": "markdown",
      "source": [
        "**2. Interaction Feature Crosses**\n",
        "\n",
        "Interaction feature crosses are created by multiplying two or more features together. For example, if you have features age and income, an interaction cross might be age * income. This type captures the interaction effect between features and is often used in linear and logistic regression models to understand how features work together to influence the target variable.\n"
      ],
      "metadata": {
        "id": "Ol4vA9glele4"
      }
    },
    {
      "cell_type": "code",
      "source": [
        "import pandas as pd\n",
        "\n",
        "# Sample data\n",
        "data = pd.DataFrame({'age': [25, 32, 47, 51, 62], 'income': [50000, 60000, 80000, 90000, 120000]})\n",
        "\n",
        "# Create interaction feature\n",
        "data['age_income'] = data['age'] * data['income']\n",
        "\n",
        "print(data)"
      ],
      "metadata": {
        "colab": {
          "base_uri": "https://localhost:8080/"
        },
        "id": "GbeV5CQNevlr",
        "outputId": "ef96d5d7-6ead-4f28-8926-e0b2254536eb"
      },
      "execution_count": null,
      "outputs": [
        {
          "output_type": "stream",
          "name": "stdout",
          "text": [
            "   age  income  age_income\n",
            "0   25   50000     1250000\n",
            "1   32   60000     1920000\n",
            "2   47   80000     3760000\n",
            "3   51   90000     4590000\n",
            "4   62  120000     7440000\n"
          ]
        }
      ]
    },
    {
      "cell_type": "markdown",
      "source": [
        "**3. Binning and One-Hot Encoding Crosses**\n",
        "\n",
        "\n",
        "This type involves creating categorical features by binning continuous features and then crossing these binned features with other features. For example, if you bin age into categories like young, middle-aged, and old, and have a feature income_level with categories like low, medium, and high, you can create crossed features like young_low_income, middle-aged_medium_income, etc. This is useful in decision tree-based models and models that handle categorical features well"
      ],
      "metadata": {
        "id": "R_68UEEZe3Ep"
      }
    },
    {
      "cell_type": "code",
      "source": [
        "import pandas as pd\n",
        "import numpy as np\n",
        "\n",
        "# Sample data\n",
        "data = pd.DataFrame({'age': [25, 32, 47, 51, 62], 'income_level': ['low', 'medium', 'medium', 'high', 'high']})\n",
        "\n",
        "# Binning age into categories\n",
        "bins = [0, 30, 50, 100]\n",
        "labels = ['young', 'middle-aged', 'old']\n",
        "data['age_group'] = pd.cut(data['age'], bins=bins, labels=labels)\n",
        "\n",
        "# One-hot encode the features\n",
        "data_encoded = pd.get_dummies(data, columns=['age_group', 'income_level'])\n",
        "\n",
        "print(data_encoded)"
      ],
      "metadata": {
        "colab": {
          "base_uri": "https://localhost:8080/"
        },
        "id": "3DlDKN2me9b7",
        "outputId": "b84c13b0-8657-4cfd-f723-05a8575e6baa"
      },
      "execution_count": null,
      "outputs": [
        {
          "output_type": "stream",
          "name": "stdout",
          "text": [
            "   age  age_group_young  age_group_middle-aged  age_group_old  \\\n",
            "0   25             True                  False          False   \n",
            "1   32            False                   True          False   \n",
            "2   47            False                   True          False   \n",
            "3   51            False                  False           True   \n",
            "4   62            False                  False           True   \n",
            "\n",
            "   income_level_high  income_level_low  income_level_medium  \n",
            "0              False              True                False  \n",
            "1              False             False                 True  \n",
            "2              False             False                 True  \n",
            "3               True             False                False  \n",
            "4               True             False                False  \n"
          ]
        }
      ]
    },
    {
      "cell_type": "markdown",
      "source": [
        "**4. Crossed Embedding Features**\n",
        "\n",
        "\n",
        "Crossed embedding features are used mainly in deep learning models, especially those dealing with sparse data like recommender systems. This technique involves combining embeddings of categorical features to create new, informative features. For instance, in a movie recommendation system, combining the embeddings of user_id and movie_id can help capture the interaction between users and movies more effectively."
      ],
      "metadata": {
        "id": "PXNZ_8otfRtr"
      }
    },
    {
      "cell_type": "code",
      "source": [
        "import tensorflow as tf\n",
        "\n",
        "# Sample data\n",
        "user_ids = tf.constant([1, 2, 3, 4, 5])\n",
        "movie_ids = tf.constant([101, 102, 103, 104, 105])\n",
        "\n",
        "# Embedding layers\n",
        "user_embedding = tf.keras.layers.Embedding(input_dim=10, output_dim=4)\n",
        "movie_embedding = tf.keras.layers.Embedding(input_dim=200, output_dim=4)\n",
        "\n",
        "# Get embeddings\n",
        "user_embeds = user_embedding(user_ids)\n",
        "movie_embeds = movie_embedding(movie_ids)\n",
        "\n",
        "# Cross embeddings\n",
        "crossed_embeds = tf.concat([user_embeds, movie_embeds], axis=1)\n",
        "\n",
        "print(crossed_embeds)"
      ],
      "metadata": {
        "colab": {
          "base_uri": "https://localhost:8080/"
        },
        "id": "kEWOxK9-faph",
        "outputId": "945cbc28-af86-4180-d816-1a3413523214"
      },
      "execution_count": null,
      "outputs": [
        {
          "output_type": "stream",
          "name": "stdout",
          "text": [
            "tf.Tensor(\n",
            "[[ 1.86966769e-02 -1.59388892e-02 -2.24998351e-02  1.09314695e-02\n",
            "   2.63718851e-02  1.63127109e-03 -3.28007825e-02  4.58093397e-02]\n",
            " [ 1.79199092e-02 -3.05398591e-02  6.36471435e-03  4.44461815e-02\n",
            "   2.17534564e-02  3.34068388e-03 -1.65980570e-02  4.57465984e-02]\n",
            " [ 1.61955617e-02 -1.36791840e-02  2.21272595e-02  4.89951111e-02\n",
            "  -3.19010504e-02  9.12203640e-03 -3.55796888e-03 -1.78154223e-02]\n",
            " [ 4.26277183e-02  3.81649621e-02  1.74470805e-02 -1.37405023e-02\n",
            "  -2.13567857e-02 -3.35861333e-02  3.17292847e-02 -4.55721989e-02]\n",
            " [-4.14873734e-02  1.10461600e-02 -2.13115346e-02  3.71809863e-02\n",
            "  -6.82752207e-03 -6.61611557e-05  7.11059570e-03  1.97275393e-02]], shape=(5, 8), dtype=float32)\n"
          ]
        }
      ]
    },
    {
      "cell_type": "markdown",
      "source": [
        "##**5. Combining Multiple Feature Crosses**\n",
        "\n",
        "**Example: Combining polynomial and interaction features.**"
      ],
      "metadata": {
        "id": "E4ySQySFfsuw"
      }
    },
    {
      "cell_type": "code",
      "source": [
        "import pandas as pd\n",
        "from sklearn.preprocessing import PolynomialFeatures\n",
        "\n",
        "# Sample data\n",
        "data = pd.DataFrame({'x1': [1, 2, 3, 4, 5], 'x2': [10, 20, 30, 40, 50]})\n",
        "\n",
        "# Create polynomial features\n",
        "poly = PolynomialFeatures(degree=2, include_bias=False)\n",
        "poly_features = poly.fit_transform(data)\n",
        "\n",
        "# Convert to DataFrame for readability\n",
        "poly_df = pd.DataFrame(poly_features, columns=poly.get_feature_names_out(['x1', 'x2']))\n",
        "\n",
        "# Create interaction feature\n",
        "poly_df['x1_x2'] = poly_df['x1'] * poly_df['x2']\n",
        "\n",
        "print(poly_df)"
      ],
      "metadata": {
        "colab": {
          "base_uri": "https://localhost:8080/"
        },
        "id": "Btzmt7vPf1k5",
        "outputId": "a83804bd-cde1-458f-9e37-2a3b3c162f20"
      },
      "execution_count": null,
      "outputs": [
        {
          "output_type": "stream",
          "name": "stdout",
          "text": [
            "    x1    x2  x1^2  x1 x2    x2^2  x1_x2\n",
            "0  1.0  10.0   1.0   10.0   100.0   10.0\n",
            "1  2.0  20.0   4.0   40.0   400.0   40.0\n",
            "2  3.0  30.0   9.0   90.0   900.0   90.0\n",
            "3  4.0  40.0  16.0  160.0  1600.0  160.0\n",
            "4  5.0  50.0  25.0  250.0  2500.0  250.0\n"
          ]
        }
      ]
    }
  ]
}